{
  "nbformat": 4,
  "nbformat_minor": 0,
  "metadata": {
    "colab": {
      "name": "movie_rating_prediction.ipynb",
      "provenance": [],
      "collapsed_sections": []
    },
    "kernelspec": {
      "name": "python3",
      "display_name": "Python 3"
    }
  },
  "cells": [
    {
      "cell_type": "code",
      "metadata": {
        "id": "vv1T3TrvTXT_",
        "colab_type": "code",
        "colab": {}
      },
      "source": [
        "import numpy as np\n",
        "import pandas as pd\n",
        "import matplotlib.pyplot as plt"
      ],
      "execution_count": 0,
      "outputs": []
    },
    {
      "cell_type": "code",
      "metadata": {
        "id": "n1rMGD-nTh9u",
        "colab_type": "code",
        "colab": {
          "base_uri": "https://localhost:8080/",
          "height": 34
        },
        "outputId": "0b8c60cd-f011-4391-a15a-f0ee50b162ca"
      },
      "source": [
        "dataset = pd.read_csv(\"/content/drive/My Drive/Colab Notebooks/Movie Rating Prediction/Train/Train.csv\")\n",
        "dataset.shape"
      ],
      "execution_count": 2,
      "outputs": [
        {
          "output_type": "execute_result",
          "data": {
            "text/plain": [
              "(40000, 2)"
            ]
          },
          "metadata": {
            "tags": []
          },
          "execution_count": 2
        }
      ]
    },
    {
      "cell_type": "code",
      "metadata": {
        "id": "mtjlhx5BUKuh",
        "colab_type": "code",
        "colab": {
          "base_uri": "https://localhost:8080/",
          "height": 69
        },
        "outputId": "99df8f1b-95e2-4482-f320-75af535adf68"
      },
      "source": [
        "dataset['label'].value_counts()"
      ],
      "execution_count": 3,
      "outputs": [
        {
          "output_type": "execute_result",
          "data": {
            "text/plain": [
              "pos    20011\n",
              "neg    19989\n",
              "Name: label, dtype: int64"
            ]
          },
          "metadata": {
            "tags": []
          },
          "execution_count": 3
        }
      ]
    },
    {
      "cell_type": "code",
      "metadata": {
        "id": "TWZMxcrSUbdX",
        "colab_type": "code",
        "colab": {}
      },
      "source": [
        "from sklearn.preprocessing import LabelEncoder\n",
        "le = LabelEncoder()"
      ],
      "execution_count": 0,
      "outputs": []
    },
    {
      "cell_type": "code",
      "metadata": {
        "id": "zlj7vllPUk1T",
        "colab_type": "code",
        "colab": {
          "base_uri": "https://localhost:8080/",
          "height": 104
        },
        "outputId": "7b15928e-8a0f-461d-ab67-9ef4357ab303"
      },
      "source": [
        "y = dataset['label'].values\n",
        "y = le.fit_transform(y)\n",
        "y[:100]"
      ],
      "execution_count": 5,
      "outputs": [
        {
          "output_type": "execute_result",
          "data": {
            "text/plain": [
              "array([1, 1, 1, 1, 1, 1, 0, 0, 1, 1, 0, 1, 1, 0, 1, 1, 1, 0, 1, 1, 0, 1,\n",
              "       1, 0, 1, 1, 1, 0, 1, 1, 0, 1, 0, 1, 0, 0, 0, 0, 0, 0, 1, 1, 0, 1,\n",
              "       0, 1, 0, 0, 0, 1, 0, 0, 0, 1, 0, 1, 1, 0, 0, 1, 0, 1, 0, 0, 0, 1,\n",
              "       1, 0, 1, 1, 1, 0, 0, 1, 1, 1, 1, 1, 1, 1, 0, 0, 0, 0, 0, 1, 0, 0,\n",
              "       1, 1, 1, 1, 0, 1, 0, 1, 1, 0, 0, 0])"
            ]
          },
          "metadata": {
            "tags": []
          },
          "execution_count": 5
        }
      ]
    },
    {
      "cell_type": "code",
      "metadata": {
        "id": "Nvd-EeI2UrjC",
        "colab_type": "code",
        "colab": {
          "base_uri": "https://localhost:8080/",
          "height": 225
        },
        "outputId": "c3495152-6eff-45b6-ed02-198c6a655371"
      },
      "source": [
        "dataset['review']"
      ],
      "execution_count": 6,
      "outputs": [
        {
          "output_type": "execute_result",
          "data": {
            "text/plain": [
              "0        mature intelligent and highly charged melodram...\n",
              "1        http://video.google.com/videoplay?docid=211772...\n",
              "2        Title: Opera (1987) Director: Dario Argento Ca...\n",
              "3        I think a lot of people just wrote this off as...\n",
              "4        This is a story of two dogs and a cat looking ...\n",
              "                               ...                        \n",
              "39995    There are similarities between Ray Lawrence's ...\n",
              "39996    For starters, I once met the director when he ...\n",
              "39997    Much of \"Over Her Dead Body\" is so painfully u...\n",
              "39998    \"Lifeforce\" is a truly bizarre adaptation of t...\n",
              "39999    I saw this movie at a screener and its the bes...\n",
              "Name: review, Length: 40000, dtype: object"
            ]
          },
          "metadata": {
            "tags": []
          },
          "execution_count": 6
        }
      ]
    },
    {
      "cell_type": "code",
      "metadata": {
        "id": "p4tKUZBzVgsg",
        "colab_type": "code",
        "colab": {
          "base_uri": "https://localhost:8080/",
          "height": 69
        },
        "outputId": "fb9485b7-4813-448b-9fe2-6922bb24d58e"
      },
      "source": [
        "import nltk\n",
        "nltk.download('stopwords')"
      ],
      "execution_count": 7,
      "outputs": [
        {
          "output_type": "stream",
          "text": [
            "[nltk_data] Downloading package stopwords to /root/nltk_data...\n",
            "[nltk_data]   Package stopwords is already up-to-date!\n"
          ],
          "name": "stdout"
        },
        {
          "output_type": "execute_result",
          "data": {
            "text/plain": [
              "True"
            ]
          },
          "metadata": {
            "tags": []
          },
          "execution_count": 7
        }
      ]
    },
    {
      "cell_type": "code",
      "metadata": {
        "id": "G5tHe68XU3x1",
        "colab_type": "code",
        "colab": {}
      },
      "source": [
        "import re\n",
        "from nltk.corpus import stopwords\n",
        "from nltk.stem import PorterStemmer"
      ],
      "execution_count": 0,
      "outputs": []
    },
    {
      "cell_type": "code",
      "metadata": {
        "id": "gHlH4ee4VH7U",
        "colab_type": "code",
        "colab": {}
      },
      "source": [
        "sw = set(stopwords.words('english'))\n",
        "ps = PorterStemmer()"
      ],
      "execution_count": 0,
      "outputs": []
    },
    {
      "cell_type": "code",
      "metadata": {
        "id": "5CZmvHt5VZiF",
        "colab_type": "code",
        "colab": {}
      },
      "source": [
        "def clean_text(sample):\n",
        "  sample = sample.lower()\n",
        "  sample = sample.replace(\"<br /><br />\", \"\")\n",
        "  sample = re.sub(\"[^a-zA-Z]+\",\" \",sample)\n",
        "  sample = sample.split()\n",
        "\n",
        "  sample = [ps.stem(s) for s in sample if s not in sw] # Removing stop words and doing stemming\n",
        "  sample = \" \".join(sample)\n",
        "\n",
        "  return sample"
      ],
      "execution_count": 0,
      "outputs": []
    },
    {
      "cell_type": "code",
      "metadata": {
        "id": "47WvbUsrX5us",
        "colab_type": "code",
        "colab": {
          "base_uri": "https://localhost:8080/",
          "height": 54
        },
        "outputId": "92cda26e-9825-4850-9e30-8d83539c2165"
      },
      "source": [
        "dataset['review'][6]"
      ],
      "execution_count": 11,
      "outputs": [
        {
          "output_type": "execute_result",
          "data": {
            "text/plain": [
              "\"I'm only going to write more because it's required. However, the summary I put at the top is way too wordy for what this film was. You pretty much know who's in on it from the beginning. In spite of its attempts at plot twists and turns -acting 'talent' trying hard to have looks of shock and dismay when a twist happens-, you never really need to wonder 'whodunit' in this 'mystery'.<br /><br />The more I write, the more I feel bad that I have to write so much in order to have a comment, but rules are rules. I really feel bad about saying this, but this is the lowest I've ever rated a movie... I think. It makes me wonder what I'm saving votes of 1 and 2 for. However, I thought this film deserved a 3, since I believe there was some talent in the film. Johanna Watts (or is it Watson) did a pretty good job. She was crying and distraught in one part and I thought she conveyed that emotion well. The man who played the character that was 'the drummer' did well, too, for his short part.<br /><br />Many of the actors did an 'ok' job. But the lead actor, David -forget his last name (terrible with names)- was pretty bad. I think he must have thought he was doing dramatic displays for 'The Young and the Restless' or 'Days of Our Lives'. If you try, you can just picture him in a white lab coat, playing a doctor with multiple personalities on 'General Hospital'. It doesn't help that the movie is even shot like a daytime soap. Although, I'm pretty sure I could shoot this same movie with a camcorder; though without the obvious and soap'ish sound editing.<br /><br />First time I ever thought the money to rent this movie was wasted. Though, I wouldn't watch it again, unless I was paid a large sum of money.\""
            ]
          },
          "metadata": {
            "tags": []
          },
          "execution_count": 11
        }
      ]
    },
    {
      "cell_type": "code",
      "metadata": {
        "id": "2iF--x5jVxUj",
        "colab_type": "code",
        "colab": {
          "base_uri": "https://localhost:8080/",
          "height": 54
        },
        "outputId": "6d568eec-04c2-4d03-c251-f7ec10be758a"
      },
      "source": [
        "clean_text(dataset['review'][6])"
      ],
      "execution_count": 12,
      "outputs": [
        {
          "output_type": "execute_result",
          "data": {
            "text/plain": [
              "'go write requir howev summari put top way wordi film pretti much know begin spite attempt plot twist turn act talent tri hard look shock dismay twist happen never realli need wonder whodunit mysteri write feel bad write much order comment rule rule realli feel bad say lowest ever rate movi think make wonder save vote howev thought film deserv sinc believ talent film johanna watt watson pretti good job cri distraught one part thought convey emot well man play charact drummer well short part mani actor ok job lead actor david forget last name terribl name pretti bad think must thought dramat display young restless day live tri pictur white lab coat play doctor multipl person gener hospit help movi even shot like daytim soap although pretti sure could shoot movi camcord though without obviou soap ish sound edit first time ever thought money rent movi wast though watch unless paid larg sum money'"
            ]
          },
          "metadata": {
            "tags": []
          },
          "execution_count": 12
        }
      ]
    },
    {
      "cell_type": "code",
      "metadata": {
        "id": "OEosmvHhWuas",
        "colab_type": "code",
        "colab": {}
      },
      "source": [
        "dataset['cleaned_review'] = dataset['review'].apply(clean_text)"
      ],
      "execution_count": 0,
      "outputs": []
    },
    {
      "cell_type": "code",
      "metadata": {
        "id": "CJvsl_LWYRX9",
        "colab_type": "code",
        "colab": {}
      },
      "source": [
        "corpus = dataset['cleaned_review'].values"
      ],
      "execution_count": 0,
      "outputs": []
    },
    {
      "cell_type": "code",
      "metadata": {
        "id": "B6vw9o7OYV4L",
        "colab_type": "code",
        "colab": {}
      },
      "source": [
        "from sklearn.feature_extraction.text import CountVectorizer, TfidfTransformer"
      ],
      "execution_count": 0,
      "outputs": []
    },
    {
      "cell_type": "code",
      "metadata": {
        "id": "HHrvGZBAYrWY",
        "colab_type": "code",
        "colab": {}
      },
      "source": [
        "cv = CountVectorizer(max_df = 0.5,max_features=50000)\n",
        "X = cv.fit_transform(corpus)"
      ],
      "execution_count": 0,
      "outputs": []
    },
    {
      "cell_type": "code",
      "metadata": {
        "id": "h7byZh2jZEkZ",
        "colab_type": "code",
        "colab": {
          "base_uri": "https://localhost:8080/",
          "height": 294
        },
        "outputId": "8f18d223-e05d-4954-8703-4e764666950f"
      },
      "source": [
        "print(X[0])"
      ],
      "execution_count": 17,
      "outputs": [
        {
          "output_type": "stream",
          "text": [
            "  (0, 25164)\t1\n",
            "  (0, 20844)\t1\n",
            "  (0, 19380)\t1\n",
            "  (0, 5614)\t1\n",
            "  (0, 25586)\t1\n",
            "  (0, 44630)\t1\n",
            "  (0, 5865)\t1\n",
            "  (0, 47635)\t2\n",
            "  (0, 39858)\t2\n",
            "  (0, 29479)\t1\n",
            "  (0, 24065)\t1\n",
            "  (0, 43631)\t1\n",
            "  (0, 36914)\t1\n",
            "  (0, 35377)\t1\n",
            "  (0, 24500)\t1\n",
            "  (0, 41060)\t1\n"
          ],
          "name": "stdout"
        }
      ]
    },
    {
      "cell_type": "code",
      "metadata": {
        "id": "mumK-PwFZmQ1",
        "colab_type": "code",
        "colab": {}
      },
      "source": [
        "tfidf = TfidfTransformer()\n",
        "x = tfidf.fit_transform(X)"
      ],
      "execution_count": 0,
      "outputs": []
    },
    {
      "cell_type": "code",
      "metadata": {
        "id": "afsPEWdZZy8f",
        "colab_type": "code",
        "colab": {
          "base_uri": "https://localhost:8080/",
          "height": 294
        },
        "outputId": "aa0b95f3-37e9-43a7-b075-fe7e3f7daa85"
      },
      "source": [
        "print(x[0])"
      ],
      "execution_count": 19,
      "outputs": [
        {
          "output_type": "stream",
          "text": [
            "  (0, 47635)\t0.6321513717388632\n",
            "  (0, 44630)\t0.3746519680247996\n",
            "  (0, 43631)\t0.23311910175629735\n",
            "  (0, 41060)\t0.08954711515364625\n",
            "  (0, 39858)\t0.3479272455598334\n",
            "  (0, 36914)\t0.12838776347304318\n",
            "  (0, 35377)\t0.06795826262376209\n",
            "  (0, 29479)\t0.09772985843350443\n",
            "  (0, 25586)\t0.20294441928431647\n",
            "  (0, 25164)\t0.19660242704458164\n",
            "  (0, 24500)\t0.1861194711304735\n",
            "  (0, 24065)\t0.08393204950822558\n",
            "  (0, 20844)\t0.1534465249461136\n",
            "  (0, 19380)\t0.14306353810192265\n",
            "  (0, 5865)\t0.21267493705986773\n",
            "  (0, 5614)\t0.18757256999458938\n"
          ],
          "name": "stdout"
        }
      ]
    },
    {
      "cell_type": "code",
      "metadata": {
        "id": "iF9NUvM_Z3VK",
        "colab_type": "code",
        "colab": {
          "base_uri": "https://localhost:8080/",
          "height": 52
        },
        "outputId": "67be2a43-4e62-4aa4-bb57-4af7289a8b22"
      },
      "source": [
        "print(X.shape)\n",
        "print(y.shape)"
      ],
      "execution_count": 20,
      "outputs": [
        {
          "output_type": "stream",
          "text": [
            "(40000, 50000)\n",
            "(40000,)\n"
          ],
          "name": "stdout"
        }
      ]
    },
    {
      "cell_type": "code",
      "metadata": {
        "id": "ziSU-iEIZ9q1",
        "colab_type": "code",
        "colab": {}
      },
      "source": [
        ""
      ],
      "execution_count": 0,
      "outputs": []
    },
    {
      "cell_type": "markdown",
      "metadata": {
        "id": "_zHXXBCVaKfd",
        "colab_type": "text"
      },
      "source": [
        "### Neural Network"
      ]
    },
    {
      "cell_type": "code",
      "metadata": {
        "id": "2OgiXstFaMh8",
        "colab_type": "code",
        "colab": {
          "base_uri": "https://localhost:8080/",
          "height": 34
        },
        "outputId": "bd833ab4-b6d7-4585-9097-fd4c4cb06375"
      },
      "source": [
        "from keras import models\n",
        "from keras.layers import Dense"
      ],
      "execution_count": 21,
      "outputs": [
        {
          "output_type": "stream",
          "text": [
            "Using TensorFlow backend.\n"
          ],
          "name": "stderr"
        }
      ]
    },
    {
      "cell_type": "code",
      "metadata": {
        "id": "iUVyP3WvaToA",
        "colab_type": "code",
        "colab": {}
      },
      "source": [
        "model = models.Sequential()\n",
        "model.add(Dense(16, activation=\"relu\", input_shape = (x.shape[1],) ) )\n",
        "model.add(Dense(16, activation=\"relu\") )\n",
        "model.add(Dense(1, activation=\"sigmoid\"))"
      ],
      "execution_count": 0,
      "outputs": []
    },
    {
      "cell_type": "code",
      "metadata": {
        "id": "EEbQ2pyVaoDv",
        "colab_type": "code",
        "colab": {
          "base_uri": "https://localhost:8080/",
          "height": 260
        },
        "outputId": "47499b98-86eb-4b99-e33b-92feda57d1e5"
      },
      "source": [
        "model.summary()"
      ],
      "execution_count": 23,
      "outputs": [
        {
          "output_type": "stream",
          "text": [
            "Model: \"sequential_1\"\n",
            "_________________________________________________________________\n",
            "Layer (type)                 Output Shape              Param #   \n",
            "=================================================================\n",
            "dense_1 (Dense)              (None, 16)                800016    \n",
            "_________________________________________________________________\n",
            "dense_2 (Dense)              (None, 16)                272       \n",
            "_________________________________________________________________\n",
            "dense_3 (Dense)              (None, 1)                 17        \n",
            "=================================================================\n",
            "Total params: 800,305\n",
            "Trainable params: 800,305\n",
            "Non-trainable params: 0\n",
            "_________________________________________________________________\n"
          ],
          "name": "stdout"
        }
      ]
    },
    {
      "cell_type": "code",
      "metadata": {
        "id": "EDqs6uJibO8g",
        "colab_type": "code",
        "colab": {}
      },
      "source": [
        "model.compile(optimizer='rmsprop', loss=\"binary_crossentropy\", metrics=['accuracy'])"
      ],
      "execution_count": 0,
      "outputs": []
    },
    {
      "cell_type": "code",
      "metadata": {
        "id": "RTrpKcs2bdgZ",
        "colab_type": "code",
        "colab": {}
      },
      "source": [
        "x_val = X[:5000]\n",
        "x_train = X[5000:]\n",
        "\n",
        "y_val = y[:5000]\n",
        "y_train = y[5000:]"
      ],
      "execution_count": 0,
      "outputs": []
    },
    {
      "cell_type": "code",
      "metadata": {
        "id": "sWsVc9qbbhVJ",
        "colab_type": "code",
        "colab": {
          "base_uri": "https://localhost:8080/",
          "height": 34
        },
        "outputId": "72a4c90d-8ee1-404c-9aea-26ff1befd93c"
      },
      "source": [
        "x_train.shape, y_train.shape"
      ],
      "execution_count": 26,
      "outputs": [
        {
          "output_type": "execute_result",
          "data": {
            "text/plain": [
              "((35000, 50000), (35000,))"
            ]
          },
          "metadata": {
            "tags": []
          },
          "execution_count": 26
        }
      ]
    },
    {
      "cell_type": "code",
      "metadata": {
        "id": "aZop1h3Ibmej",
        "colab_type": "code",
        "colab": {
          "base_uri": "https://localhost:8080/",
          "height": 104
        },
        "outputId": "340d755c-58ed-4f2a-c308-e57e16f3ea2a"
      },
      "source": [
        "hist = model.fit(x, y, batch_size=128, epochs=2, validation_data=(x_val, y_val))"
      ],
      "execution_count": 27,
      "outputs": [
        {
          "output_type": "stream",
          "text": [
            "Train on 40000 samples, validate on 5000 samples\n",
            "Epoch 1/2\n",
            "40000/40000 [==============================] - 16s 410us/step - loss: 0.4166 - accuracy: 0.8502 - val_loss: 1.4058 - val_accuracy: 0.9038\n",
            "Epoch 2/2\n",
            "40000/40000 [==============================] - 16s 409us/step - loss: 0.2052 - accuracy: 0.9190 - val_loss: 1.6208 - val_accuracy: 0.9130\n"
          ],
          "name": "stdout"
        }
      ]
    },
    {
      "cell_type": "code",
      "metadata": {
        "id": "vi2W1-03bs0H",
        "colab_type": "code",
        "colab": {}
      },
      "source": [
        "result = hist.history"
      ],
      "execution_count": 0,
      "outputs": []
    },
    {
      "cell_type": "code",
      "metadata": {
        "id": "Zf_l8NikbwY6",
        "colab_type": "code",
        "colab": {
          "base_uri": "https://localhost:8080/",
          "height": 265
        },
        "outputId": "7f8461d6-535e-457f-d41f-aa3d8ab40881"
      },
      "source": [
        "plt.xlim(0.0,1.0)\n",
        "plt.ylim(0.85,0.95)\n",
        "plt.plot(result['val_accuracy'], label = \"Val acc\")\n",
        "plt.plot(result['accuracy'], label = \"Train acc\")\n",
        "plt.legend()\n",
        "plt.show()"
      ],
      "execution_count": 29,
      "outputs": [
        {
          "output_type": "display_data",
          "data": {
            "image/png": "[encoded data removed]",
            "text/plain": [
              "<Figure size 432x288 with 1 Axes>"
            ]
          },
          "metadata": {
            "tags": [],
            "needs_background": "light"
          }
        }
      ]
    },
    {
      "cell_type": "code",
      "metadata": {
        "id": "sQlsHo-3b1oB",
        "colab_type": "code",
        "colab": {
          "base_uri": "https://localhost:8080/",
          "height": 265
        },
        "outputId": "0af458a0-fb3c-4ce4-d0f5-189ea0df1ba8"
      },
      "source": [
        "plt.plot(result['val_loss'], label = \"Val loss\")\n",
        "plt.plot(result['loss'], label = \"Train loss\")\n",
        "plt.legend()\n",
        "plt.show()"
      ],
      "execution_count": 30,
      "outputs": [
        {
          "output_type": "display_data",
          "data": {
            "image/png": "[encoded data removed]",
            "text/plain": [
              "<Figure size 432x288 with 1 Axes>"
            ]
          },
          "metadata": {
            "tags": [],
            "needs_background": "light"
          }
        }
      ]
    },
    {
      "cell_type": "code",
      "metadata": {
        "id": "tUekhXX0dU8A",
        "colab_type": "code",
        "colab": {
          "base_uri": "https://localhost:8080/",
          "height": 52
        },
        "outputId": "b1a041b4-ed89-44f1-92d3-2d4847833105"
      },
      "source": [
        "model.evaluate(x_val,y_val)"
      ],
      "execution_count": 31,
      "outputs": [
        {
          "output_type": "stream",
          "text": [
            "5000/5000 [==============================] - 1s 255us/step\n"
          ],
          "name": "stdout"
        },
        {
          "output_type": "execute_result",
          "data": {
            "text/plain": [
              "[1.6208250807206355, 0.9129999876022339]"
            ]
          },
          "metadata": {
            "tags": []
          },
          "execution_count": 31
        }
      ]
    },
    {
      "cell_type": "markdown",
      "metadata": {
        "id": "7eNkqxLxd0Z2",
        "colab_type": "text"
      },
      "source": [
        "### Testing Time"
      ]
    },
    {
      "cell_type": "code",
      "metadata": {
        "id": "fG02o0Gmdmo-",
        "colab_type": "code",
        "colab": {
          "base_uri": "https://localhost:8080/",
          "height": 34
        },
        "outputId": "e5efe72b-6d2b-4826-b460-346f3e24b30c"
      },
      "source": [
        "test = pd.read_csv(\"/content/drive/My Drive/Colab Notebooks/Movie Rating Prediction/Test/Test.csv\")\n",
        "test.shape"
      ],
      "execution_count": 32,
      "outputs": [
        {
          "output_type": "execute_result",
          "data": {
            "text/plain": [
              "(10000, 1)"
            ]
          },
          "metadata": {
            "tags": []
          },
          "execution_count": 32
        }
      ]
    },
    {
      "cell_type": "code",
      "metadata": {
        "id": "uyE1eXd9eC8L",
        "colab_type": "code",
        "colab": {
          "base_uri": "https://localhost:8080/",
          "height": 202
        },
        "outputId": "134d6891-6a05-41bd-96f7-a427851da6fe"
      },
      "source": [
        "test.head()"
      ],
      "execution_count": 33,
      "outputs": [
        {
          "output_type": "execute_result",
          "data": {
            "text/html": [
              "<div>\n",
              "<style scoped>\n",
              "    .dataframe tbody tr th:only-of-type {\n",
              "        vertical-align: middle;\n",
              "    }\n",
              "\n",
              "    .dataframe tbody tr th {\n",
              "        vertical-align: top;\n",
              "    }\n",
              "\n",
              "    .dataframe thead th {\n",
              "        text-align: right;\n",
              "    }\n",
              "</style>\n",
              "<table border=\"1\" class=\"dataframe\">\n",
              "  <thead>\n",
              "    <tr style=\"text-align: right;\">\n",
              "      <th></th>\n",
              "      <th>review</th>\n",
              "    </tr>\n",
              "  </thead>\n",
              "  <tbody>\n",
              "    <tr>\n",
              "      <th>0</th>\n",
              "      <td>Remember those old kung fu movies we used to w...</td>\n",
              "    </tr>\n",
              "    <tr>\n",
              "      <th>1</th>\n",
              "      <td>This movie is another one on my List of Movies...</td>\n",
              "    </tr>\n",
              "    <tr>\n",
              "      <th>2</th>\n",
              "      <td>How in the world does a thing like this get in...</td>\n",
              "    </tr>\n",
              "    <tr>\n",
              "      <th>3</th>\n",
              "      <td>\"Queen of the Damned\" is one of the best vampi...</td>\n",
              "    </tr>\n",
              "    <tr>\n",
              "      <th>4</th>\n",
              "      <td>The Caprica episode (S01E01) is well done as a...</td>\n",
              "    </tr>\n",
              "  </tbody>\n",
              "</table>\n",
              "</div>"
            ],
            "text/plain": [
              "                                              review\n",
              "0  Remember those old kung fu movies we used to w...\n",
              "1  This movie is another one on my List of Movies...\n",
              "2  How in the world does a thing like this get in...\n",
              "3  \"Queen of the Damned\" is one of the best vampi...\n",
              "4  The Caprica episode (S01E01) is well done as a..."
            ]
          },
          "metadata": {
            "tags": []
          },
          "execution_count": 33
        }
      ]
    },
    {
      "cell_type": "code",
      "metadata": {
        "id": "g5DBDNWneIG3",
        "colab_type": "code",
        "colab": {
          "base_uri": "https://localhost:8080/",
          "height": 34
        },
        "outputId": "0aee2f82-11ed-4689-b95a-ec2eee480c5f"
      },
      "source": [
        "test['cleaned_review'] = test['review'].apply(clean_text)\n",
        "x_test = test['cleaned_review']\n",
        "x_test = cv.transform(x_test)\n",
        "x_test.shape"
      ],
      "execution_count": 34,
      "outputs": [
        {
          "output_type": "execute_result",
          "data": {
            "text/plain": [
              "(10000, 50000)"
            ]
          },
          "metadata": {
            "tags": []
          },
          "execution_count": 34
        }
      ]
    },
    {
      "cell_type": "code",
      "metadata": {
        "id": "3v4K1xG4eWem",
        "colab_type": "code",
        "colab": {}
      },
      "source": [
        "x_test = tfidf.transform(x_test)"
      ],
      "execution_count": 0,
      "outputs": []
    },
    {
      "cell_type": "code",
      "metadata": {
        "id": "79v58ZUUedBI",
        "colab_type": "code",
        "colab": {}
      },
      "source": [
        "y_pred = model.predict(x_test)\n",
        "y_pred[ y_pred >= 0.5 ]  =  1\n",
        "y_pred = y_pred.astype('int')"
      ],
      "execution_count": 0,
      "outputs": []
    },
    {
      "cell_type": "code",
      "metadata": {
        "id": "lvUNmY8ueqrH",
        "colab_type": "code",
        "colab": {
          "base_uri": "https://localhost:8080/",
          "height": 190
        },
        "outputId": "44a49777-0db9-4b4c-a7fd-9aece9b6729f"
      },
      "source": [
        "y_pred[:10]"
      ],
      "execution_count": 37,
      "outputs": [
        {
          "output_type": "execute_result",
          "data": {
            "text/plain": [
              "array([[0],\n",
              "       [0],\n",
              "       [0],\n",
              "       [1],\n",
              "       [1],\n",
              "       [0],\n",
              "       [1],\n",
              "       [0],\n",
              "       [1],\n",
              "       [1]])"
            ]
          },
          "metadata": {
            "tags": []
          },
          "execution_count": 37
        }
      ]
    },
    {
      "cell_type": "code",
      "metadata": {
        "id": "RznQk0yCfIhi",
        "colab_type": "code",
        "colab": {}
      },
      "source": [
        ""
      ],
      "execution_count": 0,
      "outputs": []
    }
  ]
}